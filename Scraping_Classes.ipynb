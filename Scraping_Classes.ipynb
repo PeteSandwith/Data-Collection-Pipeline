{
 "cells": [
  {
   "cell_type": "code",
   "execution_count": 4,
   "metadata": {},
   "outputs": [
    {
     "name": "stdout",
     "output_type": "stream",
     "text": [
      "[{'Name': 'Assured Energy ', 'Href': 'https://uk.trustpilot.com/review/assured.energy', 'Number of Reviews': '495', 'Rating': '5.0', 'Email': 'info@assured.energy'}, {'Name': 'M&S Energy ', 'Href': 'https://uk.trustpilot.com/review/www.mandsenergy.com', 'Number of Reviews': '3,858', 'Rating': '4.9', 'Email': 'hello@mandsenergy.com'}, {'Name': 'United Gas & Power (UGP) ', 'Href': 'https://uk.trustpilot.com/review/ugp.co.uk', 'Number of Reviews': '580', 'Rating': '4.9', 'Email': 'info@ugp.co.uk'}, {'Name': 'Utility Trade Group  ', 'Href': 'https://uk.trustpilot.com/review/utilitytrade.com', 'Number of Reviews': '184', 'Rating': '4.9', 'Email': 'info@utilitytrade.com'}, {'Name': 'Octopus Energy ', 'Href': 'https://uk.trustpilot.com/review/octopus.energy', 'Number of Reviews': '117,985', 'Rating': '4.8', 'Email': 'hello@octopus.energy'}, {'Name': 'Goff Petroleum ', 'Href': 'https://uk.trustpilot.com/review/www.goffpetroleum.co.uk', 'Number of Reviews': '14,422', 'Rating': '4.8', 'Email': 'domestic@goffpetroleum.co.uk'}, {'Name': 'CPS Fuels ', 'Href': 'https://uk.trustpilot.com/review/www.cpsfuels.co.uk', 'Number of Reviews': '6,651', 'Rating': '4.8', 'Email': 'domestic@cpsfuels.co.uk'}, {'Name': 'Ripple Energy ', 'Href': 'https://uk.trustpilot.com/review/www.rippleenergy.com', 'Number of Reviews': '613', 'Rating': '4.8', 'Email': 'info@rippleenergy.com'}, {'Name': 'London Power ', 'Href': 'https://uk.trustpilot.com/review/mylondonpower.com', 'Number of Reviews': '271', 'Rating': '4.8', 'Email': 'hello@mylondonpower.com'}, {'Name': 'Fidelity Group Ltd. ', 'Href': 'https://uk.trustpilot.com/review/fidelity-group.co.uk', 'Number of Reviews': '157', 'Rating': '4.8', 'Email': 'niki.foote@fidelity-group.co.uk'}]\n"
     ]
    }
   ],
   "source": [
    "from selenium import webdriver\n",
    "import time\n",
    "from selenium.webdriver.common.by import By\n",
    "from selenium.webdriver.common.keys import Keys\n",
    "from selenium.webdriver.common.action_chains import ActionChains\n",
    "import re\n",
    "driver = webdriver.Chrome()\n",
    "\n",
    "class Scraper_Object:\n",
    "    def __init__(self, category, url):\n",
    "        self.category = category\n",
    "        self.url = url\n",
    "        self.crawler = []\n",
    "        self.scraped_data = []\n",
    "        driver.get(url)\n",
    "\n",
    "    def accept_cookies(self):\n",
    "        time.sleep(12)\n",
    "        accept_cookies_button = driver.find_element(By.XPATH, '//*[@id=\"onetrust-accept-btn-handler\"]')\n",
    "        accept_cookies_button.click()\n",
    "        time.sleep(1)\n",
    "\n",
    "    def search(self):\n",
    "        search_bar = driver.find_element(By.XPATH, '//input[@class=\"herosearch_searchInputField__Pp2MD\"]')\n",
    "        search_bar.send_keys(self.category)\n",
    "        time.sleep(3)\n",
    "        #The following line identifies the first suggested category by finding the following sibling of the 'categories' heading under the search box\n",
    "        first_category = driver.find_element(By.XPATH, '//h4[contains(text(),\"Categories\")]//following-sibling::a')\n",
    "        first_category.click()\n",
    "        time.sleep(3)\n",
    "    \n",
    "    def create_crawler(self, length):\n",
    "        self.length = length\n",
    "        #creates a list of the html elements corresponding to different companies \n",
    "        items_list = driver.find_elements(By.XPATH, '//div[@class=\"paper_paper__1PY90 paper_outline__lwsUX card_card__lQWDv card_noPadding__D8PcU styles_wrapper__2JOo2\"]/a')\n",
    "        #Iterates through the html elements and puts each href into the crawler\n",
    "        for index in range(0, self.length):\n",
    "            href = items_list[index].get_attribute('href')\n",
    "            self.crawler.append(href)\n",
    "        return self.crawler\n",
    "\n",
    "    def scrape_from_crawler(self):\n",
    "        for item in self.crawler:\n",
    "            self.scraped_data.append(scrape_stuff(item))\n",
    "\n",
    "#A function that scrapes all of the relevant data from a single href from the crawler, and puts it into a dictionary\n",
    "def scrape_stuff(url):\n",
    "    driver.get(url)\n",
    "    time.sleep(1)\n",
    "    item_dictionary = {}  \n",
    "\n",
    "    #Finds name of company\n",
    "    Name = driver.find_element(By.XPATH, '//span[@class=\"typography_display-s__qOjh6 typography_appearance-default__AAY17 title_displayName__TtDDM\"]/.').text\n",
    "    item_dictionary['Name'] = Name\n",
    "\n",
    "    #Adds the href to item_dictionary\n",
    "    item_dictionary['Href'] = url\n",
    "\n",
    "    #Finds the number of reviews\n",
    "    Num_reviews = driver.find_element(By.XPATH, '//p[@class=\"typography_body-l__KUYFJ typography_appearance-default__AAY17\"]/.').text\n",
    "    Number_reviews = Num_reviews.split(' ')\n",
    "    item_dictionary[\"Number of Reviews\"] = Number_reviews[0]\n",
    "\n",
    "    #Finds the rating \n",
    "    Rating = driver.find_element(By.XPATH, '//span[@class=\"typography_heading-m__T_L_X typography_appearance-default__AAY17\"]').text\n",
    "    item_dictionary[\"Rating\"] = Rating\n",
    "\n",
    "    #Finds the email of the company\n",
    "    Email = driver.find_element(By.XPATH, '//a[@class=\"link_internal__7XN06 typography_body-m__xgxZ_ typography_appearance-action__9NNRY link_link__IZzHN link_underlined__OXYVM\"]').text\n",
    "    item_dictionary['Email']= Email\n",
    "\n",
    "    return item_dictionary\n",
    "\n",
    "if __name__ == \"__main__\":\n",
    "    tester = Scraper_Object('Energy Supplier', 'https://uk.trustpilot.com')\n",
    "    tester.accept_cookies()\n",
    "    tester.search()\n",
    "    tester.create_crawler(10)\n",
    "    tester.scrape_from_crawler()\n",
    "    print(tester.scraped_data)"
   ]
  }
 ],
 "metadata": {
  "interpreter": {
   "hash": "bc6aee26d74ebf5fd9ff223917f46591e174bd4f8a931b714fad2afe26fc6eae"
  },
  "kernelspec": {
   "display_name": "Python 3.9.5 64-bit ('base': conda)",
   "language": "python",
   "name": "python3"
  },
  "language_info": {
   "codemirror_mode": {
    "name": "ipython",
    "version": 3
   },
   "file_extension": ".py",
   "mimetype": "text/x-python",
   "name": "python",
   "nbconvert_exporter": "python",
   "pygments_lexer": "ipython3",
   "version": "3.9.5"
  },
  "orig_nbformat": 4
 },
 "nbformat": 4,
 "nbformat_minor": 2
}
